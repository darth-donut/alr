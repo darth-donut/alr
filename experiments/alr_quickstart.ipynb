{
 "nbformat": 4,
 "nbformat_minor": 0,
 "metadata": {
  "colab": {
   "name": "alr_quickstart.ipynb",
   "provenance": [],
   "collapsed_sections": []
  },
  "kernelspec": {
   "name": "python3",
   "display_name": "Python 3"
  },
  "accelerator": "GPU"
 },
 "cells": [
  {
   "cell_type": "markdown",
   "metadata": {
    "id": "gLTENEBOZw4C",
    "colab_type": "text"
   },
   "source": [
    "# Quickstart tutorial\n",
    "\n",
    "This document helps you get up-and-running with `alr` immediately. It should give you a general idea of how to get started with this package."
   ]
  },
  {
   "cell_type": "markdown",
   "metadata": {
    "id": "dxbfOh8RaPXi",
    "colab_type": "text"
   },
   "source": [
    "## Introduction\n",
    "\n",
    "In this document, we will use `alr` to run a simple active learning experiment on MNIST. The goal of this experiment is to show the effectiveness of using a proper acquisition function over randomly sampling unlabelled points (often referred to as random acquisition). The model is more likely to improve with fewer acquisitions when using a good acquisition function."
   ]
  },
  {
   "cell_type": "markdown",
   "metadata": {
    "id": "PB32hd3baFEF",
    "colab_type": "text"
   },
   "source": [
    "## Loading and preparing datasets\n",
    "\n",
    "In this section, we define some training hyperparameters, create data loaders, and define the experiment function which we will reuse for different acquisition functions."
   ]
  },
  {
   "cell_type": "code",
   "metadata": {
    "id": "bpim5TnlxYVO",
    "colab_type": "code",
    "colab": {}
   },
   "source": [
    "%matplotlib inline\n",
    "import torch\n",
    "import torch.utils.data as torchdata\n",
    "import matplotlib.pyplot as plt\n",
    "from torch.nn import functional as F\n",
    "\n",
    "from alr import MCDropout\n",
    "from alr.acquisition import BALD, RandomAcquisition\n",
    "from alr.data import DataManager, UnlabelledDataset\n",
    "from alr.data.datasets import Dataset\n",
    "from alr.training import Trainer\n",
    "from alr.training.samplers import RandomFixedLengthSampler\n",
    "from alr.utils import manual_seed, eval_fwd_exp, timeop\n",
    "\n",
    "# reproducibility\n",
    "manual_seed(42, det_cudnn=False)\n",
    "\n",
    "device = torch.device('cuda:0' if torch.cuda.is_available() else 'cpu')\n",
    "kwargs = dict(num_workers=4, pin_memory=True)\n",
    "\n",
    "# ========= CONSTANTS ===========\n",
    "BATCH_SIZE = 64\n",
    "EPOCHS = 50\n",
    "VAL_SIZE = 5_000\n",
    "ITERS = 21\n",
    "BATCH_ACQUIRE_SIZE = 10\n",
    "\n",
    "# ========= SETUP ===========\n",
    "train, pool, test = Dataset.MNIST.get_fixed()\n",
    "pool, val = torchdata.random_split(pool, (len(pool) - VAL_SIZE, VAL_SIZE))\n",
    "pool = UnlabelledDataset(pool)\n",
    "\n",
    "pool_loader = torchdata.DataLoader(\n",
    "    pool, batch_size=1024, shuffle=False, **kwargs,\n",
    ")\n",
    "val_loader = torchdata.DataLoader(\n",
    "    val, batch_size=1024, shuffle=False, **kwargs,\n",
    ")\n",
    "test_loader = torchdata.DataLoader(\n",
    "    test, batch_size=1024, shuffle=False, **kwargs,\n",
    ")\n",
    "\n",
    "def run_experiment(\n",
    "    model: MCDropout,\n",
    "    data_manager: DataManager,\n",
    "    batch_acquire_size: int,\n",
    "    iterations: int,\n",
    "):\n",
    "    accs = []\n",
    "    for i in range(1, iterations + 1):\n",
    "        model.reset_weights()\n",
    "        trainer = Trainer(\n",
    "            model, F.nll_loss, optimiser='Adam',\n",
    "            patience=3, reload_best=True, device=device\n",
    "        )\n",
    "        train_loader = torchdata.DataLoader(\n",
    "            dm.labelled, batch_size=BATCH_SIZE,\n",
    "            sampler=RandomFixedLengthSampler(dm.labelled, 12_500, shuffle=True),\n",
    "            **kwargs\n",
    "        )\n",
    "        with timeop() as t:\n",
    "            history = trainer.fit(train_loader, val_loader, epochs=EPOCHS)\n",
    "    \n",
    "        test_metrics = trainer.evaluate(test_loader)\n",
    "    \n",
    "        print(f\"=== Iteration {i} of {iterations} ({i / iterations:.2%}) ===\")\n",
    "        print(f\"\\ttrain: {dm.n_labelled}; val: {len(val)}; \"\n",
    "            f\"pool: {dm.n_unlabelled}; test: {len(test)}\")\n",
    "\n",
    "        print(f\"\\t[test] acc: {test_metrics['acc']:.4f}, time: {t}\")\n",
    "\n",
    "        accs.append(test_metrics['acc'])\n",
    "        dm.acquire(b=batch_acquire_size)\n",
    "    return accs"
   ],
   "execution_count": null,
   "outputs": []
  },
  {
   "cell_type": "markdown",
   "metadata": {
    "id": "avdf-adYZc7J",
    "colab_type": "text"
   },
   "source": [
    "## Acquire the most _informative_ points using BALD\n",
    "\n",
    "The `BALD` constructor expects the first argument to be a function that takes an input and returns a probability distribution. By wrapping our model with `eval_fwd_exp`, it returns a function that sets the model to `.eval()` mode, calls the `forward` method, and exponentiates the output (since our model returns log-softmax values).\n",
    "\n",
    "The remaining arguments in the constructor determine how the acquisition function iterates over the `pool` dataset. Typically, this is identical to how you would construct the validation and test data loaders.\n",
    "\n",
    "\n",
    "### DataManager\n",
    "\n",
    "The `DataManager` class encapsulates the process of acquiring points from `pool`. Its two most useful methods are:\n",
    "\n",
    "* `.acquire(b)` acquires `b` points from `pool`, labels them, and adds them into `train`.\n",
    "* `.reset()` resets the `DataManager` to its initial state."
   ]
  },
  {
   "cell_type": "code",
   "metadata": {
    "id": "B52NXBPDYsb7",
    "colab_type": "code",
    "colab": {}
   },
   "source": [
    "model = MCDropout(Dataset.MNIST.model, forward=20, fast=True).to(device)\n",
    "acq_fn = BALD(eval_fwd_exp(model), device=device, batch_size=1024, **kwargs)\n",
    "dm = DataManager(train, pool, acq_fn)\n",
    "\n",
    "bald_accs = run_experiment(\n",
    "    model, dm,\n",
    "    batch_acquire_size=BATCH_ACQUIRE_SIZE,\n",
    "    iterations=ITERS\n",
    ")"
   ],
   "execution_count": null,
   "outputs": []
  },
  {
   "cell_type": "markdown",
   "metadata": {
    "id": "J2rN1TMgeRe4",
    "colab_type": "text"
   },
   "source": [
    "## Acquire points using random acquisition\n",
    "\n",
    "As a baseline, we could also randomly acquire points from `pool`."
   ]
  },
  {
   "cell_type": "code",
   "metadata": {
    "id": "HU3sgYPbWrZl",
    "colab_type": "code",
    "colab": {}
   },
   "source": [
    "dm = DataManager(train, pool, RandomAcquisition())\n",
    "\n",
    "baseline_accs = run_experiment(\n",
    "    model, dm,\n",
    "    batch_acquire_size=BATCH_ACQUIRE_SIZE, iterations=ITERS\n",
    ")"
   ],
   "execution_count": null,
   "outputs": []
  },
  {
   "cell_type": "markdown",
   "metadata": {
    "id": "dPN3HlodigZc",
    "colab_type": "text"
   },
   "source": [
    "## Results\n",
    "\n",
    "As expected, BALD outperforms random acquisition; it picks points that the model finds most informative. Therefore, the model requires fewer acquisitions to achieve high accuracy."
   ]
  },
  {
   "cell_type": "code",
   "metadata": {
    "id": "MCTQIWa3XVIw",
    "colab_type": "code",
    "colab": {
     "base_uri": "https://localhost:8080/",
     "height": 295
    },
    "outputId": "8986005a-0c2b-48cf-b9eb-5a53a6dc24cb"
   },
   "source": [
    "plt.plot(range(20, 230, 10), bald_accs, label=\"BALD 10\")\n",
    "plt.plot(range(20, 230, 10), baseline_accs, label=\"Random Aquisition 10\")\n",
    "plt.legend()\n",
    "plt.grid()\n",
    "plt.title(\"MNIST test accuracy\")\n",
    "plt.xlabel(\"Acquired dataset size\")\n",
    "plt.ylabel(\"Test accuracy\")\n",
    "plt.xlim(left=20);"
   ],
   "execution_count": null,
   "outputs": [
    {
     "output_type": "display_data",
     "data": {
      "image/png": "[encoded data removed]",
      "text/plain": [
       "<Figure size 432x288 with 1 Axes>"
      ]
     },
     "metadata": {
      "tags": [],
      "needs_background": "light"
     }
    }
   ]
  }
 ]
}